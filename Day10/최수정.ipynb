{
 "cells": [
  {
   "attachments": {},
   "cell_type": "markdown",
   "metadata": {},
   "source": [
    "## 1번 문제\n",
    "\n",
    "프로그래머스 Lev1. 카드 뭉치 "
   ]
  },
  {
   "cell_type": "code",
   "execution_count": 4,
   "metadata": {},
   "outputs": [
    {
     "name": "stdout",
     "output_type": "stream",
     "text": [
      "Yes\n",
      "No\n"
     ]
    }
   ],
   "source": [
    "def solution1(cards1, cards2, goal):\n",
    "    answer = 'Yes'\n",
    "    \n",
    "    card1_sel, card2_sel = 0, 0  # 카드1,2 리스트에서 선택 카드\n",
    "    \n",
    "    # 카드리스트에서 꺼낸 값들을 목표 리스트 카드와 비교\n",
    "    for i in goal:  \n",
    "        # [\"i\", \"want\", \"to\", \"drink\", \"water\"] 와 같은 단어가\n",
    "        # cards1 안에 있다\n",
    "        if len(cards1) > card1_sel and i == cards1[card1_sel]:  # 길이가 안맞으면 탈락이므로 길이비교 먼저 하기!\n",
    "            card1_sel += 1  # 다음 카드 꺼내기\n",
    "        elif len(cards2) > card2_sel and i == cards2[card2_sel]:\n",
    "            card2_sel += 1  # 다음 카드 꺼내기\n",
    "        else:\n",
    "            answer = 'No'\n",
    "            break\n",
    "    return answer\n",
    "\n",
    "cards1 = [\"i\", \"drink\", \"water\"]\n",
    "cards2 = [\"want\", \"to\"]\n",
    "goal = [\"i\", \"want\", \"to\", \"drink\", \"water\"]\n",
    "\n",
    "print(solution1(cards1, cards2, goal)) # return Yes\n",
    "\n",
    "cards1 = [\"i\", \"water\", \"drink\"]\n",
    "cards2 = [\"want\", \"to\"]\n",
    "goal = [\"i\", \"want\", \"to\", \"drink\", \"water\"]\n",
    "\n",
    "print(solution1(cards1, cards2, goal)) # return No"
   ]
  },
  {
   "attachments": {},
   "cell_type": "markdown",
   "metadata": {},
   "source": [
    "## 2번 문제\n",
    "\n",
    "프로그래머스 Lev1. 체육복"
   ]
  },
  {
   "cell_type": "code",
   "execution_count": 3,
   "metadata": {},
   "outputs": [
    {
     "name": "stdout",
     "output_type": "stream",
     "text": [
      "5\n",
      "4\n",
      "2\n"
     ]
    }
   ],
   "source": [
    "def solution2(n, lost, reserve):\n",
    "    answer = n - len(lost)  # 전체 학생수 - 잃어버린 학생수 = 수업들을 수 있는 학생수\n",
    "\n",
    "    for i in lost:  \n",
    "        if i in reserve:  \n",
    "            answer = answer + 1  # 수업들을 수 있는 학생수 증가\n",
    "            reserve.remove(i)  # 여분에서 한명씩 지움\n",
    "            continue\n",
    "\n",
    "        # 앞 뒤 번호인지 확인\n",
    "        for j in reserve:\n",
    "            if j == i - 1:  # 여분학생이 잃어버린 학생보다 바로 앞이면\n",
    "                answer = answer + 1  # 수업들을 수 있는 학생수 증가\n",
    "                reserve.remove(j)  # 여분학생에서는 지우기\n",
    "                break\n",
    "            elif j == i + 1:  # 여분학생이 잃어버린 학생보다 바로 뒤면\n",
    "                if j in lost:  # 근데 잃어버린 학생리스트에 있으면 빠져나감\n",
    "                    break\n",
    "                answer = answer + 1  # 아니면 수업들을 수 있는 학생수 증가\n",
    "                reserve.remove(j)  # 여분학생에서는 지우기\n",
    "                break\n",
    "\n",
    "    return answer  # 수업들을 수 있는 학생수 반환\n",
    "\n",
    "n = 5\n",
    "lost = [2, 4]\n",
    "reserve = [1,3,5]\n",
    "\n",
    "print(solution2(n, lost, reserve)) # return 5\n",
    "\n",
    "\n",
    "n = 5\n",
    "lost = [2, 4]\n",
    "reserve = [3]\n",
    "\n",
    "print(solution2(n, lost, reserve)) # return 4\n",
    "\n",
    "\n",
    "n = 3\n",
    "lost = [3]\n",
    "reserve = [1]\n",
    "\n",
    "print(solution2(n, lost, reserve)) # return 2"
   ]
  },
  {
   "attachments": {},
   "cell_type": "markdown",
   "metadata": {},
   "source": [
    "### 선생님 풀이"
   ]
  },
  {
   "cell_type": "code",
   "execution_count": 5,
   "metadata": {},
   "outputs": [
    {
     "name": "stdout",
     "output_type": "stream",
     "text": [
      "5\n",
      "4\n",
      "2\n"
     ]
    }
   ],
   "source": [
    "def solution2(n, lost, reserve):  # 집합으로 하면 중복되지 않으므로 집합 사용!\n",
    "    answer = 0\n",
    "    reserved = set(reserve) - set(lost)  # 여벌옷 가져온 학생 - 체육복 없는 학생 (전처리)\n",
    "    losted = set(lost) - set(reserve)  # 체육복 없는 학생 - 여벌옷 가져온 학생 (전처리)\n",
    "\n",
    "    for i in reserved:\n",
    "        if i - 1 in losted:\n",
    "            losted.remove(i-1)  # 왼쪽 학생에게 옷을 빌려줘\n",
    "        elif i + 1 in losted:\n",
    "            losted.remove(i+1)  # 오른쪽 학생에게 옷을 빌려줘\n",
    "    \n",
    "    answer = n - len(losted)  # 체육복이 없는 남은 학생수\n",
    "    return answer  \n",
    "\n",
    "n = 5\n",
    "lost = [2, 4]\n",
    "reserve = [1,3,5]\n",
    "\n",
    "print(solution2(n, lost, reserve)) # return 5\n",
    "\n",
    "\n",
    "n = 5\n",
    "lost = [2, 4]\n",
    "reserve = [3]\n",
    "\n",
    "print(solution2(n, lost, reserve)) # return 4\n",
    "\n",
    "\n",
    "n = 3\n",
    "lost = [3]\n",
    "reserve = [1]\n",
    "\n",
    "print(solution2(n, lost, reserve)) # return 2"
   ]
  }
 ],
 "metadata": {
  "kernelspec": {
   "display_name": "Python 3",
   "language": "python",
   "name": "python3"
  },
  "language_info": {
   "codemirror_mode": {
    "name": "ipython",
    "version": 3
   },
   "file_extension": ".py",
   "mimetype": "text/x-python",
   "name": "python",
   "nbconvert_exporter": "python",
   "pygments_lexer": "ipython3",
   "version": "3.11.1"
  },
  "orig_nbformat": 4,
  "vscode": {
   "interpreter": {
    "hash": "a3d8f53f1429d27b792a3789224562ddd32c1395c9a9cfbb17b3c19c3b9a493d"
   }
  }
 },
 "nbformat": 4,
 "nbformat_minor": 2
}
