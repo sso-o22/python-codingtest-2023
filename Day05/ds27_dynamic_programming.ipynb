{
 "cells": [
  {
   "cell_type": "code",
   "execution_count": null,
   "metadata": {},
   "outputs": [],
   "source": []
  },
  {
   "attachments": {},
   "cell_type": "markdown",
   "metadata": {},
   "source": [
    "### 동적 프로그래밍"
   ]
  },
  {
   "cell_type": "code",
   "execution_count": 1,
   "metadata": {},
   "outputs": [],
   "source": [
    "# 전역변수\n",
    "maxWeight = 7  # 배낭 최대 무게\n",
    "rowCount = 4  # 보석 숫자\n",
    "weight = [0, 6, 4, 3, 5]  # 0, 금, 수정, 루비, 진주\n",
    "money = [0, 13, 8, 6, 12]\n",
    "\n",
    "def knapsack():\n",
    "    print('## 메모이제이션 배열 ##')\n",
    "    array = [[0 for _ in range(maxWeight+1)] for _ in range(rowCount+1)]\n",
    "\n",
    "    for row in range(1, rowCount+1):  # 4번\n",
    "        print(row, '개-->', end=' ')\n",
    "        for col in range(1, maxWeight+1):  # 1kg~7kg\n",
    "            if weight[row] > col:  # 물건의 무게가 열보다 크면 / 가방에 안들어가면\n",
    "                array[row][col] = array[row-1][col]\n",
    "            else:  # 물건 무게가 작으면\n",
    "                value1 = money[row] + array[row-1][col-weight[row]]\n",
    "                value2 = array[row-1][col]\n",
    "                array[row][col] = max(value1, value2)\n",
    "            print(f'{array[row][col]}', end=' ')\n",
    "        print()\n",
    "\n",
    "    return array[rowCount][maxWeight]"
   ]
  },
  {
   "cell_type": "code",
   "execution_count": 2,
   "metadata": {},
   "outputs": [
    {
     "name": "stdout",
     "output_type": "stream",
     "text": [
      "## 메모이제이션 배열 ##\n",
      "1 개--> 0 0 0 0 0 13 13 \n",
      "2 개--> 0 0 0 8 8 13 13 \n",
      "3 개--> 0 0 6 8 8 13 14 \n",
      "4 개--> 0 0 6 8 12 13 14 \n"
     ]
    },
    {
     "data": {
      "text/plain": [
       "14"
      ]
     },
     "execution_count": 2,
     "metadata": {},
     "output_type": "execute_result"
    }
   ],
   "source": [
    "knapsack()"
   ]
  }
 ],
 "metadata": {
  "kernelspec": {
   "display_name": "Python 3",
   "language": "python",
   "name": "python3"
  },
  "language_info": {
   "codemirror_mode": {
    "name": "ipython",
    "version": 3
   },
   "file_extension": ".py",
   "mimetype": "text/x-python",
   "name": "python",
   "nbconvert_exporter": "python",
   "pygments_lexer": "ipython3",
   "version": "3.11.1"
  },
  "orig_nbformat": 4,
  "vscode": {
   "interpreter": {
    "hash": "a3d8f53f1429d27b792a3789224562ddd32c1395c9a9cfbb17b3c19c3b9a493d"
   }
  }
 },
 "nbformat": 4,
 "nbformat_minor": 2
}
